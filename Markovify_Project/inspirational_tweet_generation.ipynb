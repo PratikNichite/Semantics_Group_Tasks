{
  "cells": [
    {
      "cell_type": "markdown",
      "metadata": {
        "id": "QLK4N1_E0nqa"
      },
      "source": [
        "# **Inspirational Tweet Generator Using Markovify**"
      ]
    },
    {
      "cell_type": "code",
      "execution_count": 2,
      "metadata": {
        "colab": {
          "base_uri": "https://localhost:8080/"
        },
        "id": "DZYirL7RBU_s",
        "outputId": "eec4477c-5d57-47f0-cc1a-0b710ebcac24"
      },
      "outputs": [
        {
          "output_type": "stream",
          "name": "stdout",
          "text": [
            "Collecting markovify\n",
            "  Downloading markovify-0.9.4.tar.gz (27 kB)\n",
            "  Preparing metadata (setup.py) ... \u001b[?25l\u001b[?25hdone\n",
            "Collecting unidecode (from markovify)\n",
            "  Downloading Unidecode-1.3.8-py3-none-any.whl (235 kB)\n",
            "\u001b[2K     \u001b[90m━━━━━━━━━━━━━━━━━━━━━━━━━━━━━━━━━━━━━━━━\u001b[0m \u001b[32m235.5/235.5 kB\u001b[0m \u001b[31m5.9 MB/s\u001b[0m eta \u001b[36m0:00:00\u001b[0m\n",
            "\u001b[?25hBuilding wheels for collected packages: markovify\n",
            "  Building wheel for markovify (setup.py) ... \u001b[?25l\u001b[?25hdone\n",
            "  Created wheel for markovify: filename=markovify-0.9.4-py3-none-any.whl size=18606 sha256=91d0cf483c41911a19858c8dba3d68f7e92635d3955cfe6147f98fe0c0cca193\n",
            "  Stored in directory: /root/.cache/pip/wheels/ca/8c/c5/41413e24c484f883a100c63ca7b3b0362b7c6f6eb6d7c9cc7f\n",
            "Successfully built markovify\n",
            "Installing collected packages: unidecode, markovify\n",
            "Successfully installed markovify-0.9.4 unidecode-1.3.8\n"
          ]
        }
      ],
      "source": [
        "!pip install markovify"
      ]
    },
    {
      "cell_type": "code",
      "source": [
        "from google.colab import drive\n",
        "drive.mount(\"/content/drive/\")"
      ],
      "metadata": {
        "colab": {
          "base_uri": "https://localhost:8080/"
        },
        "id": "iJhMDfgsS5Z4",
        "outputId": "b5a2b1dd-a7e0-4501-f539-0047d46e62f9"
      },
      "execution_count": 1,
      "outputs": [
        {
          "output_type": "stream",
          "name": "stdout",
          "text": [
            "Drive already mounted at /content/drive/; to attempt to forcibly remount, call drive.mount(\"/content/drive/\", force_remount=True).\n"
          ]
        }
      ]
    },
    {
      "cell_type": "code",
      "execution_count": 5,
      "metadata": {
        "id": "gmPDuflSB48t"
      },
      "outputs": [],
      "source": [
        "import markovify"
      ]
    },
    {
      "cell_type": "markdown",
      "metadata": {
        "id": "WnGF89_MyvIp"
      },
      "source": [
        "* The dataset is taken from [GitHub](https://github.com/brahmcapoor/Mercury/tree/master).\n",
        "* The dataset is a big collection of inspirational tweets from twitter."
      ]
    },
    {
      "cell_type": "code",
      "execution_count": 3,
      "metadata": {
        "id": "T-cMuqkaDnt_"
      },
      "outputs": [],
      "source": [
        "# Get the dataset\n",
        "with open(\"/content/drive/MyDrive/inspirational.txt\", ) as f:\n",
        "    text = f.read()"
      ]
    },
    {
      "cell_type": "code",
      "execution_count": 9,
      "metadata": {
        "colab": {
          "base_uri": "https://localhost:8080/",
          "height": 35
        },
        "id": "aewxIu5X-aIv",
        "outputId": "f5234dc0-4764-4ae9-cca1-f2eecde646f1"
      },
      "outputs": [
        {
          "output_type": "execute_result",
          "data": {
            "text/plain": [
              "\"“Be yourself; everyone else is already taken.”\\n\\n“You've gotta dance like there's nobody watching,\\nLo\""
            ],
            "application/vnd.google.colaboratory.intrinsic+json": {
              "type": "string"
            }
          },
          "metadata": {},
          "execution_count": 9
        }
      ],
      "source": [
        "text[:100]"
      ]
    },
    {
      "cell_type": "code",
      "execution_count": 10,
      "metadata": {
        "id": "NEqbFFv0Bmvm"
      },
      "outputs": [],
      "source": [
        "# Build the model\n",
        "text_model = markovify.Text(text, state_size=2)"
      ]
    },
    {
      "cell_type": "code",
      "execution_count": 11,
      "metadata": {
        "colab": {
          "base_uri": "https://localhost:8080/"
        },
        "id": "jKmQotQfB7Bw",
        "outputId": "741e56ee-2522-4e37-ae0b-295793091c1e"
      },
      "outputs": [
        {
          "output_type": "stream",
          "name": "stdout",
          "text": [
            "See your most important thing is you.\n",
            "\n",
            "Peace is not to conform!\n",
            "\n",
            "There’s my self-righteous self and my guide is joy.\n",
            "\n",
            "And as you have to save them!\n",
            "\n",
            "It’s important to always shock others and we strive to overcome.\n",
            "\n"
          ]
        }
      ],
      "source": [
        "# Print some randomly-generated sentences of any size\n",
        "for i in range(5):\n",
        "    print(text_model.make_sentence())\n",
        "    print(\"\")"
      ]
    },
    {
      "cell_type": "code",
      "execution_count": 12,
      "metadata": {
        "colab": {
          "base_uri": "https://localhost:8080/"
        },
        "id": "KFs5QsxTCHsO",
        "outputId": "04bdfbc2-dba7-4dee-c732-254b4193a399"
      },
      "outputs": [
        {
          "output_type": "stream",
          "name": "stdout",
          "text": [
            "You would find it strange that I would never crawl backward and so forth.\n",
            "Stop over-analysing, life is beautiful like a fool for love, to keep you fulfilled.\n",
            "If it's not going to use a product provides much more luck investing in eccentric B and C students.\n",
            "But there are surpluses rotting in other people, not completely.\n",
            "They find the meaning in sorrow and don’t expect for more than forgive: forget.\n"
          ]
        }
      ],
      "source": [
        "# Print some randomly-generated sentences of no more than 200 characters\n",
        "for i in range(5):\n",
        "    print(text_model.make_short_sentence(200))"
      ]
    },
    {
      "cell_type": "code",
      "execution_count": null,
      "metadata": {
        "id": "h8AlwfF40aUP"
      },
      "outputs": [],
      "source": []
    }
  ],
  "metadata": {
    "colab": {
      "provenance": []
    },
    "kernelspec": {
      "display_name": "Python 3",
      "name": "python3"
    },
    "language_info": {
      "name": "python"
    }
  },
  "nbformat": 4,
  "nbformat_minor": 0
}